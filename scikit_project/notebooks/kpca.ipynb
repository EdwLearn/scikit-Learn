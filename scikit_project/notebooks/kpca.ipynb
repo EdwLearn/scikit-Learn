{
 "cells": [
  {
   "cell_type": "code",
   "execution_count": 1,
   "metadata": {},
   "outputs": [],
   "source": [
    "import pandas as pd\n",
    "import sklearn\n",
    "import matplotlib.pyplot as plt\n",
    "\n",
    "from sklearn.decomposition import KernelPCA\n",
    "\n",
    "from sklearn.linear_model import LogisticRegression\n",
    "\n",
    "from sklearn.preprocessing import StandardScaler\n",
    "from sklearn.model_selection import train_test_split\n",
    "\n",
    "import os"
   ]
  },
  {
   "cell_type": "code",
   "execution_count": 3,
   "metadata": {},
   "outputs": [
    {
     "name": "stdout",
     "output_type": "stream",
     "text": [
      "   age  sex  cp  trestbps  chol  fbs  restecg  thalach  exang  oldpeak  slope  \\\n",
      "0   52    1   0       125   212    0        1      168      0      1.0      2   \n",
      "1   53    1   0       140   203    1        0      155      1      3.1      0   \n",
      "2   70    1   0       145   174    0        1      125      1      2.6      0   \n",
      "3   61    1   0       148   203    0        1      161      0      0.0      2   \n",
      "4   62    0   0       138   294    1        1      106      0      1.9      1   \n",
      "\n",
      "   ca  thal  target  \n",
      "0   2     3       0  \n",
      "1   0     3       0  \n",
      "2   0     3       0  \n",
      "3   1     3       0  \n",
      "4   3     2       0  \n"
     ]
    }
   ],
   "source": [
    "\n",
    "df_heart = pd.read_csv('../data/heart.csv')\n",
    "print(df_heart.head(5))"
   ]
  },
  {
   "cell_type": "code",
   "execution_count": 5,
   "metadata": {},
   "outputs": [
    {
     "name": "stdout",
     "output_type": "stream",
     "text": [
      "SCORE KPCA:  0.8214285714285714\n"
     ]
    }
   ],
   "source": [
    "# Tomando nuestra variable objetivo\n",
    "df_features = df_heart.drop(['target'], axis = 1)\n",
    "df_target = df_heart['target']\n",
    "    \n",
    "# Cargar, ajustar y transformar nuestro modelo\n",
    "df_features = StandardScaler().fit_transform(df_features)\n",
    "    \n",
    "# Conjunto de prueba y entrenamiento\n",
    "X_train, X_test, y_train, y_test = train_test_split(df_features,df_target, test_size= 0.3, random_state=42)\n",
    "    \n",
    "kpca = KernelPCA(n_components=4, kernel='linear')\n",
    "kpca.fit(X_train)\n",
    "    \n",
    "df_train = kpca.transform(X_train)\n",
    "df_test = kpca.transform(X_test)\n",
    "    \n",
    "logistic = LogisticRegression(solver= 'lbfgs')\n",
    "logistic.fit(df_train, y_train)\n",
    "print(\"SCORE KPCA: \", logistic.score(df_test, y_test))"
   ]
  },
  {
   "cell_type": "code",
   "execution_count": null,
   "metadata": {},
   "outputs": [],
   "source": []
  }
 ],
 "metadata": {
  "kernelspec": {
   "display_name": "scikit",
   "language": "python",
   "name": "python3"
  },
  "language_info": {
   "codemirror_mode": {
    "name": "ipython",
    "version": 3
   },
   "file_extension": ".py",
   "mimetype": "text/x-python",
   "name": "python",
   "nbconvert_exporter": "python",
   "pygments_lexer": "ipython3",
   "version": "3.9.19"
  }
 },
 "nbformat": 4,
 "nbformat_minor": 2
}
