{
 "cells": [
  {
   "cell_type": "code",
   "execution_count": 90,
   "metadata": {},
   "outputs": [],
   "source": [
    "import pandas as pd\n",
    "\n",
    "from sklearn.neighbors import KNeighborsClassifier\n",
    "from sklearn.ensemble import BaggingClassifier\n",
    "\n",
    "from sklearn.model_selection import train_test_split\n",
    "from sklearn.metrics import accuracy_score\n",
    "\n",
    "\n",
    "from sklearn.svm import LinearSVC\n",
    "from sklearn.svm import SVC\n",
    "from sklearn.linear_model import SGDClassifier\n",
    "from sklearn.tree import DecisionTreeClassifier\n",
    "\n",
    "import warnings\n",
    "warnings.simplefilter(\"ignore\")"
   ]
  },
  {
   "cell_type": "code",
   "execution_count": 91,
   "metadata": {},
   "outputs": [],
   "source": [
    "df_heart = pd.read_csv('../data/heart.csv')"
   ]
  },
  {
   "cell_type": "code",
   "execution_count": 92,
   "metadata": {},
   "outputs": [],
   "source": [
    "X = df_heart.drop(['target'], axis = 1)\n",
    "y = df_heart['target']\n",
    "\n",
    "X_train, X_test, y_train, y_test = train_test_split(X,y, test_size=0.3)"
   ]
  },
  {
   "cell_type": "code",
   "execution_count": 93,
   "metadata": {},
   "outputs": [
    {
     "name": "stdout",
     "output_type": "stream",
     "text": [
      "================================================================\n",
      "0.7305194805194806\n"
     ]
    }
   ],
   "source": [
    "knn_class = KNeighborsClassifier().fit(X_train, y_train)\n",
    "knn_pred = knn_class.predict(X_test)\n",
    "\n",
    "print(\"=\"*64)\n",
    "print(accuracy_score(knn_pred, y_test))\n"
   ]
  },
  {
   "cell_type": "code",
   "execution_count": 94,
   "metadata": {},
   "outputs": [
    {
     "name": "stdout",
     "output_type": "stream",
     "text": [
      "================================================================\n",
      "0.7792207792207793\n"
     ]
    }
   ],
   "source": [
    "bag_class = BaggingClassifier(estimator=KNeighborsClassifier(), n_estimators=50).fit(X_train, y_train)\n",
    "bag_pred = bag_class.predict(X_test)\n",
    "print(\"=\"*64)\n",
    "print(accuracy_score(bag_pred, y_test))"
   ]
  },
  {
   "cell_type": "code",
   "execution_count": 95,
   "metadata": {},
   "outputs": [],
   "source": [
    "classifier = {\n",
    "    'KNeighborsClassifier' : KNeighborsClassifier(),\n",
    "    'LinearSVC' : LinearSVC(),\n",
    "    'SVC' : SVC(),\n",
    "    'SGDC' : SGDClassifier(),\n",
    "    'DecisionTreeClassifier' : DecisionTreeClassifier()\n",
    "}"
   ]
  },
  {
   "cell_type": "code",
   "execution_count": 96,
   "metadata": {},
   "outputs": [
    {
     "name": "stdout",
     "output_type": "stream",
     "text": [
      "Accuracy Bagging with KNeighborsClassifier: 0.7727272727272727\n",
      "\n",
      "Accuracy Bagging with LinearSVC: 0.8474025974025974\n",
      "\n",
      "Accuracy Bagging with SVC: 0.7142857142857143\n",
      "\n",
      "Accuracy Bagging with SGDC: 0.6525974025974026\n",
      "\n",
      "Accuracy Bagging with DecisionTreeClassifier: 0.9935064935064936\n",
      "\n"
     ]
    }
   ],
   "source": [
    "for name, estimador in classifier.items():\n",
    "    bag_class = BaggingClassifier(estimator= estimador, n_estimators= 5).fit(X_train, y_train)\n",
    "    bag_pred = bag_class.predict(X_test)\n",
    "    \n",
    "    print(f'Accuracy Bagging with {name}:', accuracy_score(bag_pred, y_test))\n",
    "    print('')"
   ]
  },
  {
   "cell_type": "code",
   "execution_count": null,
   "metadata": {},
   "outputs": [],
   "source": []
  }
 ],
 "metadata": {
  "kernelspec": {
   "display_name": "scikit",
   "language": "python",
   "name": "python3"
  },
  "language_info": {
   "codemirror_mode": {
    "name": "ipython",
    "version": 3
   },
   "file_extension": ".py",
   "mimetype": "text/x-python",
   "name": "python",
   "nbconvert_exporter": "python",
   "pygments_lexer": "ipython3",
   "version": "3.9.19"
  }
 },
 "nbformat": 4,
 "nbformat_minor": 2
}
